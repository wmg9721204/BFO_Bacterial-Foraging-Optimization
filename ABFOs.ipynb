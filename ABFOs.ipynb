{
 "cells": [
  {
   "cell_type": "code",
   "execution_count": 4,
   "metadata": {},
   "outputs": [],
   "source": [
    "## set the hyperparameters\n",
    "n = 2 ## number of adaptions (every n iterations)\n",
    "Range = [-10,10] ## exploration range: Range^n\n",
    "S = 10 ## number of bacteria\n",
    "Sr = Int(round(S/2)) ## number of bacteria removed in reproductive step\n",
    "Nc = 20 ## chemotactic steps\n",
    "Ns = 5 ## swim steps\n",
    "Nre = 10 ## reproductive steps\n",
    "Ned = 10 ## elimination and dispersal steps\n",
    "Ped = 0.3 ## probability of elimination\n",
    "C_init = (Range[2]-Range[1])/S; ## initial run-length unit\n",
    "Ci = copy(C_init) ## run-length unit\n",
    "alpha = 10 ## paramter for run-length unit decay\n",
    "beta = 10; ## parameter for precision ascent "
   ]
  },
  {
   "cell_type": "code",
   "execution_count": null,
   "metadata": {
    "collapsed": true
   },
   "outputs": [],
   "source": []
  },
  {
   "cell_type": "code",
   "execution_count": null,
   "metadata": {
    "collapsed": true
   },
   "outputs": [],
   "source": []
  },
  {
   "cell_type": "code",
   "execution_count": null,
   "metadata": {
    "collapsed": true
   },
   "outputs": [],
   "source": [
    "using LinearAlgebra ## \"norm\"\n",
    "using StatsBase ## for function \"sample\"\n",
    "## This function computes the classical (non-adaptive) BFO (Bacterial Foraging Optimization)\n",
    "## Inputs:\n",
    "## J = a function with domain R^n\n",
    "## n = 2, dimension of the input of J\n",
    "## Range = [-10,10], exploration range: Range^n\n",
    "## S = 10, number of bacteria\n",
    "## Sr = number of bacteria removed in reproductive step\n",
    "## Nc = number of chemotactic steps\n",
    "## Ns = number of swim steps\n",
    "## Nre = number of reproductive steps\n",
    "## Ned = elimination and dispersal steps\n",
    "## Ped = probability of elimination\n",
    "## Ci = (Range[2]-Range[1])/S; ## run-length unit\n",
    "## Output: a dictionary that stores\n",
    "## (1) the minimum value of J\n",
    "## (2) the point achieving this minimu value\n",
    "## (3) the path of each bacterium (for plotting illustration)\n",
    "function BFO(J, Range, n = 2::Int, S = 10::Int, Sr = 4::Int, Nc = 20::Int, Ns = 5::Int, \n",
    "        Nre = 50::Int, Ned = 10::Int, Ped = 0.3::Float64, Ci = ((Range[2]-Range[1])/S)::Float64)\n",
    "    ## randomly generate S bacteria in Range^n\n",
    "    B_loc = (Range[2]-Range[1])*rand(n,S).+Range[1] ## B_loc = Bacteria locations\n",
    "    ## a dictionary recording the path of bacterium i\n",
    "    Path_Dict = Dict(i=>[zeros(n,0) B_loc[:,i]] for i=1:S)\n",
    "    for l = 1:Ned ## index of elimination-dispersal steps\n",
    "        for k = 1:Nre ## index of reproductive steps\n",
    "            for j = 1:Nc ## index of chemotactic steps\n",
    "                ## Chemotactic Step\n",
    "                for i = 1:S ## index of bacterium\n",
    "                    ## Tumble/Swim\n",
    "                    Path_i = copy(B_loc[:,i]) ## record the path of bacterium i\n",
    "                    m = 0 ## counter for swimming\n",
    "                    delta_i = randn(n) ## random \"tumble\" direction (uniform on (n-1)-sphere)\n",
    "                    while m<Ns\n",
    "                        J_last = J(B_loc[:,i]) ## last fitness value\n",
    "                        B_i_loc_new = B_loc[:,i] + Ci*delta_i/norm(delta_i) ## new location\n",
    "                        J_new = J(B_i_loc_new) ## new fitness value\n",
    "                        if J_new<J_last ## swim\n",
    "                            m = m+1\n",
    "                            J_last = copy(J_new)\n",
    "                            B_loc[:,i] = B_i_loc_new\n",
    "                            ## update the path of bacterium i\n",
    "                            Path_i = [Path_i B_i_loc_new]\n",
    "                        else\n",
    "                            m = Ns ## don't swim \n",
    "                        end\n",
    "                    end\n",
    "                    ## update the path of bacterium i\n",
    "                    if Path_Dict[i][:,end]!=B_loc[:,i]\n",
    "                        Path_Dict[i] = [Path_Dict[i] B_loc[:,i]]\n",
    "                    end\n",
    "                end\n",
    "            end\n",
    "            if k<Nre\n",
    "                ## Reproductive Step\n",
    "                ## (!!!) I define the health of a bacterium as the J value of its current location\n",
    "                Health = [J(B_loc[:,i]) for i=1:S]\n",
    "                Health_sort = sortslices([Health collect(1:S)], dims = 1) ## sort the bacteria according to health\n",
    "                B_survive = Array{Int,1}(Health_sort[1:S-Sr,2]) ## ## pick out the most healthy (S-Sr) bacteria\n",
    "                B_rep = sort([B_survive;B_survive[1:Sr]]) ## reproduce the most healthy Sr bacteria\n",
    "                B_loc = B_loc[:,B_rep]\n",
    "                \n",
    "                ## update the path dictionary\n",
    "                for i = 1:S\n",
    "                    if Path_Dict[i][:,end]!=B_loc[:,i]\n",
    "                        Path_Dict[i] = [Path_Dict[i] B_loc[:,i]]\n",
    "                    end\n",
    "                end\n",
    "            end\n",
    "        end\n",
    "        ## Elimination-Dispersal Step\n",
    "        if l<Ned\n",
    "            KillAlive = [sample([false, true], aweights([Ped,1-Ped])) for i=1:S] # true = alive, false = kill\n",
    "            N_kill = S - sum(KillAlive) ## number of kiilled bacteria\n",
    "            ## randomly generate a bacterium for each killed bacterium\n",
    "            Alive = findall(KillAlive)\n",
    "            Kill = setdiff(collect(1:S),Alive)\n",
    "            B_loc = sortslices([[Alive'; B_loc[:,Alive]] [Kill';(Range[2]-Range[1])*rand(n,length(Kill)).+Range[1]]], dims = 2)[2:n+1,:]\n",
    "            ## update the path dictionary\n",
    "            for i = 1:S\n",
    "                if Path_Dict[i][:,end]!=B_loc[:,i]\n",
    "                    Path_Dict[i] = [Path_Dict[i] B_loc[:,i]]\n",
    "                end\n",
    "            end\n",
    "        end\n",
    "    end\n",
    "    B_best = Int(sortslices([[J(B_loc[:,i]) for i=1:S] collect(1:S)], dims = 1)[1,2]) ## best bacterium\n",
    "    X_best = B_loc[:,B_best] ## best location for minimizing J\n",
    "    J_best = J(X_best) ## best (minimum) J value\n",
    "    return Dict(\"Minimum\"=>J_best, \"Minimum Point\"=>X_best, \"Path_Dict\"=>Path_Dict)\n",
    "end"
   ]
  },
  {
   "cell_type": "code",
   "execution_count": 1,
   "metadata": {},
   "outputs": [
    {
     "data": {
      "text/plain": [
       "2×10 Array{Float64,2}:\n",
       " 0.677315   0.728688  0.746127  0.134602  …  0.285851  0.694037   0.682285\n",
       " 0.0869247  0.652693  0.261259  0.741551     0.147925  0.0680156  0.416963"
      ]
     },
     "execution_count": 1,
     "metadata": {},
     "output_type": "execute_result"
    }
   ],
   "source": [
    "A = rand(2,10)"
   ]
  },
  {
   "cell_type": "code",
   "execution_count": 2,
   "metadata": {},
   "outputs": [
    {
     "data": {
      "text/plain": [
       "2-element Array{Float64,1}:\n",
       " 0.682284893129242\n",
       " 0.416963267439322"
      ]
     },
     "execution_count": 2,
     "metadata": {},
     "output_type": "execute_result"
    }
   ],
   "source": [
    "A[:,end]"
   ]
  },
  {
   "cell_type": "code",
   "execution_count": null,
   "metadata": {
    "collapsed": true
   },
   "outputs": [],
   "source": []
  }
 ],
 "metadata": {
  "kernelspec": {
   "display_name": "Julia 1.0.2",
   "language": "julia",
   "name": "julia-1.0"
  },
  "language_info": {
   "file_extension": ".jl",
   "mimetype": "application/julia",
   "name": "julia",
   "version": "1.0.2"
  }
 },
 "nbformat": 4,
 "nbformat_minor": 2
}
