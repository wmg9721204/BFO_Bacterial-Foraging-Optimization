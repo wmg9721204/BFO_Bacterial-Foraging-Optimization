{
 "cells": [
  {
   "cell_type": "markdown",
   "metadata": {},
   "source": [
    "**Motivation**: Due to the slowness of direct implementaion of BFO, I feel an urgent need for vectorized version of BFO. "
   ]
  },
  {
   "cell_type": "markdown",
   "metadata": {},
   "source": [
    "### Define a convenient function for randomly generating points with pre-assigned Range"
   ]
  },
  {
   "cell_type": "code",
   "execution_count": 1,
   "metadata": {},
   "outputs": [
    {
     "data": {
      "text/plain": [
       "RandPts (generic function with 1 method)"
      ]
     },
     "execution_count": 1,
     "metadata": {},
     "output_type": "execute_result"
    }
   ],
   "source": [
    "## m: number of random points to generate\n",
    "## Range: dim x 2 matrix; the d-th row is the range of the d-th variable\n",
    "function RandPts(Range::Array{Float64,2}, m::Int)\n",
    "    dim = size(Range,1)\n",
    "    randPts = rand(dim,m)\n",
    "    for d = 1:dim\n",
    "        Original = randPts[d,:]\n",
    "        randPts[d,:] = (Range[d,2]-Range[d,1])*Original.+Range[d,1]\n",
    "    end\n",
    "    return randPts\n",
    "end"
   ]
  },
  {
   "cell_type": "code",
   "execution_count": 6,
   "metadata": {},
   "outputs": [],
   "source": [
    "Range = Array{Float64,2}([0 3; 1 4; 2 5])\n",
    "m = 10;"
   ]
  },
  {
   "cell_type": "code",
   "execution_count": 11,
   "metadata": {
    "scrolled": true
   },
   "outputs": [
    {
     "name": "stdout",
     "output_type": "stream",
     "text": [
      "  0.000009 seconds (14 allocations: 1.891 KiB)\n"
     ]
    },
    {
     "data": {
      "text/plain": [
       "3×10 Array{Float64,2}:\n",
       " 2.9142   0.843835  1.89914  1.31308  …  0.0607998  1.15026  0.928093\n",
       " 2.37882  1.2721    2.69931  1.15669     1.96483    1.97681  3.81663 \n",
       " 4.09613  2.88865   2.25775  2.30644     4.23734    4.92265  3.07238 "
      ]
     },
     "execution_count": 11,
     "metadata": {},
     "output_type": "execute_result"
    }
   ],
   "source": [
    "@time RandPts(Range,m)"
   ]
  },
  {
   "cell_type": "code",
   "execution_count": 2,
   "metadata": {},
   "outputs": [
    {
     "data": {
      "text/plain": [
       "RandUnit"
      ]
     },
     "execution_count": 2,
     "metadata": {},
     "output_type": "execute_result"
    }
   ],
   "source": [
    "\"\"\"\n",
    "**RandUnit** is a function generating m random unit vectors in dimension d. <br>\n",
    "**Inputs**: <br>\n",
    "1. d: dimension <br>\n",
    "2. m: number of vectors to generate <br>\n",
    "**Output**: <br>\n",
    "an d x m matrix whose columns are the desired vectors. <br>\n",
    "\"\"\"\n",
    "function RandUnit(d,m)\n",
    "    Rand = randn(d,m)\n",
    "    for k = 1:m\n",
    "        Rand[:,k]./=norm(Rand[:,k])\n",
    "    end\n",
    "    return Rand\n",
    "end"
   ]
  },
  {
   "cell_type": "code",
   "execution_count": 44,
   "metadata": {
    "scrolled": true
   },
   "outputs": [
    {
     "name": "stdout",
     "output_type": "stream",
     "text": [
      "search: \u001b[0m\u001b[1mR\u001b[22m\u001b[0m\u001b[1ma\u001b[22m\u001b[0m\u001b[1mn\u001b[22m\u001b[0m\u001b[1md\u001b[22m\u001b[0m\u001b[1mU\u001b[22m\u001b[0m\u001b[1mn\u001b[22m\u001b[0m\u001b[1mi\u001b[22m\u001b[0m\u001b[1mt\u001b[22m\n",
      "\n"
     ]
    },
    {
     "data": {
      "text/latex": [
       "\\textbf{RandUnit} is a function generating m random unit vectors in dimension d. <br> \\textbf{Inputs}: <br>\n",
       "\n",
       "\\begin{itemize}\n",
       "\\item[1. ] d: dimension <br>\n",
       "\n",
       "\n",
       "\\item[2. ] m: number of vectors to generate <br>\n",
       "\n",
       "\\end{itemize}\n",
       "\\textbf{Output}: <br> an d x m matrix whose columns are the desired vectors. <br>\n",
       "\n"
      ],
      "text/markdown": [
       "**RandUnit** is a function generating m random unit vectors in dimension d. <br> **Inputs**: <br>\n",
       "\n",
       "1. d: dimension <br>\n",
       "2. m: number of vectors to generate <br>\n",
       "\n",
       "**Output**: <br> an d x m matrix whose columns are the desired vectors. <br>\n"
      ],
      "text/plain": [
       "  \u001b[1mRandUnit\u001b[22m is a function generating m random unit vectors in dimension d. <br>\n",
       "  \u001b[1mInputs\u001b[22m: <br>\n",
       "\n",
       "    1.   d: dimension <br>\n",
       "\n",
       "    2.   m: number of vectors to generate <br>\n",
       "\n",
       "  \u001b[1mOutput\u001b[22m: <br> an d x m matrix whose columns are the desired vectors. <br>"
      ]
     },
     "execution_count": 44,
     "metadata": {},
     "output_type": "execute_result"
    }
   ],
   "source": [
    "?RandUnit"
   ]
  },
  {
   "cell_type": "markdown",
   "metadata": {},
   "source": [
    "Notations recap:\n",
    "1. **J**: a function with n variables\n",
    "2. **Range**: exploration range <br><br>\n",
    "\n",
    "3. **n** = 2, dimension of the input of J\n",
    "4. **S** = 10, number of bacteria\n",
    "5. **Sr** = 4,  number of bacteria removed in reproductive step\n",
    "6. **Nc** = 20, number of chemotactic steps\n",
    "7. **Ns** = 5, number of swim steps\n",
    "8. **Nre** = 5, number of reproductive steps\n",
    "9. **Ned** = 2, elimination and dispersal steps\n",
    "10. **Ped** = 0.3, probability of elimination\n",
    "11. **Ci** = (Range[2]-Range[1])/S, the run-length unit"
   ]
  },
  {
   "cell_type": "code",
   "execution_count": 79,
   "metadata": {
    "scrolled": true
   },
   "outputs": [
    {
     "data": {
      "text/plain": [
       "BFO (generic function with 10 methods)"
      ]
     },
     "execution_count": 79,
     "metadata": {},
     "output_type": "execute_result"
    }
   ],
   "source": [
    "function BFO(J, Range, n = 2::Int, S = 10::Int, Sr = 4::Int, Nc = 20::Int, Ns = 5::Int, \n",
    "        Nre = 5::Int, Ned = 2::Int, Ped = 0.3::Float64, Ci = ((Range[2]-Range[1])/S)::Float64)\n",
    "    \n",
    "    ## randomly generate S bacteria in Range\n",
    "    B_loc = RandPts(Range,S)\n",
    "    ## a dictionary recording the path of bacterium i\n",
    "    Path_Dict = Dict(i=>[zeros(n,0) B_loc[:,i]] for i=1:S)\n",
    "    for l = 1:Ned ## index of elimination-dispersal steps\n",
    "        for k = 1:Nre ## index of reproductive steps\n",
    "            for j = 1:Nc ## index of chemotactic steps\n",
    "                ## Chemotactic Step\n",
    "                println(\"Chemo-step $j\")\n",
    "                ToSwim = collect(1:S) ## monitor the swimming bacteria\n",
    "                Tumble = RandUnit(n,S)\n",
    "                m = 0 ## index of swimming\n",
    "                while (ToSwim!=Array{Int64,1}())&(m<Ns) ## tumble/swim\n",
    "                    m = m + 1\n",
    "                    J_old = [J(B_loc[:,i]) for i in ToSwim]\n",
    "    \n",
    "                    B_loc_new = copy(B_loc)\n",
    "                    B_loc_new[:,ToSwim] = B_loc[:,ToSwim].+Ci*Tumble[:,ToSwim]\n",
    "                    ## Mirror back the out-of-range bacteria\n",
    "                    for d = 1:n\n",
    "                        ## mirror back bacteria tumbling out from below\n",
    "                        B_loc_new[d,ToSwim] = (abs.(B_loc_new[d,ToSwim].-Range[d,1])).+(Range[d,1]) \n",
    "                        ## mirror back bacteria tumbling out from above\n",
    "                        B_loc_new[d,ToSwim] = Range[d,2].-(abs.(Range[d,2].-B_loc_new[d,ToSwim]))\n",
    "                    end\n",
    "                    B_loc_new\n",
    "    \n",
    "                    ## Evaluate J at new locations\n",
    "                    J_new = [J(B_loc_new[:,i]) for i in ToSwim]\n",
    "    \n",
    "                    ## Find out improved bacteria and update the swimming ones\n",
    "                    ToSwim = ToSwim[findall(J_new.<J_old)]\n",
    "    \n",
    "                    for i in ToSwim\n",
    "                        Path_Dict[i] = [Path_Dict[i] B_loc_new[:,i]]\n",
    "                    end\n",
    "                    B_loc[:,ToSwim] = B_loc_new[:,ToSwim]\n",
    "                end ## end of tumble/swim\n",
    "            end ## end of chemotactic steps\n",
    "            \n",
    "            if k<Nre\n",
    "                ## Reproductive Step\n",
    "                println(\"Repro-step $k\")\n",
    "                ## (!!!) I define the health of a bacterium as the J value of its current location\n",
    "                Health = [J(B_loc[:,i]) for i=1:S]\n",
    "                Health_sort = sortslices([Health collect(1:S)], dims = 1) ## sort the bacteria according to health\n",
    "                B_survive = Array{Int,1}(Health_sort[1:S-Sr,2]) ## ## pick out the most healthy (S-Sr) bacteria\n",
    "                B_die = setdiff(collect(1:S), B_survive)\n",
    "                B_rep = sort([B_survive;B_survive[1:Sr]]) ## reproduce the most healthy Sr bacteria\n",
    "                B_loc[:,B_die] = B_loc[:,B_survive[1:Sr]]\n",
    "                \n",
    "                ## update the path dictionary\n",
    "                for i in B_die\n",
    "                    Path_Dict[i] = [Path_Dict[i] B_loc[:,i]]\n",
    "                end\n",
    "            end\n",
    "        end\n",
    "        ## Elimination-Dispersal Step\n",
    "        println(\"ED-step $l\")\n",
    "        if l<Ned\n",
    "            Alive = [sample([false, true], aweights([Ped,1-Ped])) for i=1:S] # true = alive, false = kill\n",
    "            Killed = setdiff(collect(1:S),Alive) ## kiilled bacteria\n",
    "            ## randomly generate a bacterium for each killed bacterium\n",
    "            Alive = findall(Alive)\n",
    "            \n",
    "            ## Rebuild the killed bacteria in random locations in Range\n",
    "            B_loc[:,Killed] = RandPts(Range,length(Killed))\n",
    "            ## update the path dictionary\n",
    "            for i in Killed\n",
    "                Path_Dict[i] = [Path_Dict[i] B_loc[:,i]]\n",
    "            end\n",
    "        end\n",
    "    end\n",
    "    B_best = Int(sortslices([[J(B_loc[:,i]) for i=1:S] collect(1:S)], dims = 1)[1,2]) ## best bacterium\n",
    "    X_best = B_loc[:,B_best] ## best location for minimizing J\n",
    "    J_best = J(X_best) ## best (minimum) J value\n",
    "    return Dict(\"Minimum\"=>J_best, \"Minimum Point\"=>X_best, \"Path_Dict\"=>Path_Dict)\n",
    "end"
   ]
  },
  {
   "cell_type": "code",
   "execution_count": 75,
   "metadata": {
    "collapsed": true
   },
   "outputs": [],
   "source": [
    "using LinearAlgebra # \"norm\"\n",
    "using StatsBase\n",
    "Range = Array{Float64,2}([0 2;1 3])\n",
    "n = 2#::Int\n",
    "S = 10#::Int, \n",
    "Sr = 4#::Int, \n",
    "Nc = 20#::Int, \n",
    "Ns = 5#::Int\n",
    "Nre = 2#::Int\n",
    "Ned = 2#::Int\n",
    "Ped = 0.3#::Float64\n",
    "Ci = ((norm(Range[:,2]-Range[:,1]))/(2*S));#::Float64 "
   ]
  },
  {
   "cell_type": "code",
   "execution_count": 73,
   "metadata": {},
   "outputs": [
    {
     "data": {
      "text/plain": [
       "J (generic function with 1 method)"
      ]
     },
     "execution_count": 73,
     "metadata": {},
     "output_type": "execute_result"
    }
   ],
   "source": [
    "J(X) = sum(X)"
   ]
  },
  {
   "cell_type": "code",
   "execution_count": 80,
   "metadata": {},
   "outputs": [
    {
     "name": "stdout",
     "output_type": "stream",
     "text": [
      "Chemo-step 1\n",
      "Chemo-step 2\n",
      "Chemo-step 3\n",
      "Chemo-step 4\n",
      "Chemo-step 5\n",
      "Chemo-step 6\n",
      "Chemo-step 7\n",
      "Chemo-step 8\n",
      "Chemo-step 9\n",
      "Chemo-step 10\n",
      "Chemo-step 11\n",
      "Chemo-step 12\n",
      "Chemo-step 13\n",
      "Chemo-step 14\n",
      "Chemo-step 15\n",
      "Chemo-step 16\n",
      "Chemo-step 17\n",
      "Chemo-step 18\n",
      "Chemo-step 19\n",
      "Chemo-step 20\n",
      "Repro-step 1\n",
      "Chemo-step 1\n",
      "Chemo-step 2\n",
      "Chemo-step 3\n",
      "Chemo-step 4\n",
      "Chemo-step 5\n",
      "Chemo-step 6\n",
      "Chemo-step 7\n",
      "Chemo-step 8\n",
      "Chemo-step 9\n",
      "Chemo-step 10\n",
      "Chemo-step 11\n",
      "Chemo-step 12\n",
      "Chemo-step 13\n",
      "Chemo-step 14\n",
      "Chemo-step 15\n",
      "Chemo-step 16\n",
      "Chemo-step 17\n",
      "Chemo-step 18\n",
      "Chemo-step 19\n",
      "Chemo-step 20\n",
      "Repro-step 2\n",
      "Chemo-step 1\n",
      "Chemo-step 2\n",
      "Chemo-step 3\n",
      "Chemo-step 4\n",
      "Chemo-step 5\n",
      "Chemo-step 6\n",
      "Chemo-step 7\n",
      "Chemo-step 8\n",
      "Chemo-step 9\n",
      "Chemo-step 10\n",
      "Chemo-step 11\n",
      "Chemo-step 12\n",
      "Chemo-step 13\n",
      "Chemo-step 14\n",
      "Chemo-step 15\n",
      "Chemo-step 16\n",
      "Chemo-step 17\n",
      "Chemo-step 18\n",
      "Chemo-step 19\n",
      "Chemo-step 20\n",
      "Repro-step 3\n",
      "Chemo-step 1\n",
      "Chemo-step 2\n",
      "Chemo-step 3\n",
      "Chemo-step 4\n",
      "Chemo-step 5\n",
      "Chemo-step 6\n",
      "Chemo-step 7\n",
      "Chemo-step 8\n",
      "Chemo-step 9\n",
      "Chemo-step 10\n",
      "Chemo-step 11\n",
      "Chemo-step 12\n",
      "Chemo-step 13\n",
      "Chemo-step 14\n",
      "Chemo-step 15\n",
      "Chemo-step 16\n",
      "Chemo-step 17\n",
      "Chemo-step 18\n",
      "Chemo-step 19\n",
      "Chemo-step 20\n",
      "Repro-step 4\n",
      "Chemo-step 1\n",
      "Chemo-step 2\n",
      "Chemo-step 3\n",
      "Chemo-step 4\n",
      "Chemo-step 5\n",
      "Chemo-step 6\n",
      "Chemo-step 7\n",
      "Chemo-step 8\n",
      "Chemo-step 9\n",
      "Chemo-step 10\n",
      "Chemo-step 11\n",
      "Chemo-step 12\n",
      "Chemo-step 13\n",
      "Chemo-step 14\n",
      "Chemo-step 15\n",
      "Chemo-step 16\n",
      "Chemo-step 17\n",
      "Chemo-step 18\n",
      "Chemo-step 19\n",
      "Chemo-step 20\n",
      "ED-step 1\n",
      "Chemo-step 1\n",
      "Chemo-step 2\n",
      "Chemo-step 3\n",
      "Chemo-step 4\n",
      "Chemo-step 5\n",
      "Chemo-step 6\n",
      "Chemo-step 7\n",
      "Chemo-step 8\n",
      "Chemo-step 9\n",
      "Chemo-step 10\n",
      "Chemo-step 11\n",
      "Chemo-step 12\n",
      "Chemo-step 13\n",
      "Chemo-step 14\n",
      "Chemo-step 15\n",
      "Chemo-step 16\n",
      "Chemo-step 17\n",
      "Chemo-step 18\n",
      "Chemo-step 19\n",
      "Chemo-step 20\n",
      "Repro-step 1\n",
      "Chemo-step 1\n",
      "Chemo-step 2\n",
      "Chemo-step 3\n",
      "Chemo-step 4\n",
      "Chemo-step 5\n",
      "Chemo-step 6\n",
      "Chemo-step 7\n",
      "Chemo-step 8\n",
      "Chemo-step 9\n",
      "Chemo-step 10\n",
      "Chemo-step 11\n",
      "Chemo-step 12\n",
      "Chemo-step 13\n",
      "Chemo-step 14\n",
      "Chemo-step 15\n",
      "Chemo-step 16\n",
      "Chemo-step 17\n",
      "Chemo-step 18\n",
      "Chemo-step 19\n",
      "Chemo-step 20\n",
      "Repro-step 2\n",
      "Chemo-step 1\n",
      "Chemo-step 2\n",
      "Chemo-step 3\n",
      "Chemo-step 4\n",
      "Chemo-step 5\n",
      "Chemo-step 6\n",
      "Chemo-step 7\n",
      "Chemo-step 8\n",
      "Chemo-step 9\n",
      "Chemo-step 10\n",
      "Chemo-step 11\n",
      "Chemo-step 12\n",
      "Chemo-step 13\n",
      "Chemo-step 14\n",
      "Chemo-step 15\n",
      "Chemo-step 16\n",
      "Chemo-step 17\n",
      "Chemo-step 18\n",
      "Chemo-step 19\n",
      "Chemo-step 20\n",
      "Repro-step 3\n",
      "Chemo-step 1\n",
      "Chemo-step 2\n",
      "Chemo-step 3\n",
      "Chemo-step 4\n",
      "Chemo-step 5\n",
      "Chemo-step 6\n",
      "Chemo-step 7\n",
      "Chemo-step 8\n",
      "Chemo-step 9\n",
      "Chemo-step 10\n",
      "Chemo-step 11\n",
      "Chemo-step 12\n",
      "Chemo-step 13\n",
      "Chemo-step 14\n",
      "Chemo-step 15\n",
      "Chemo-step 16\n",
      "Chemo-step 17\n",
      "Chemo-step 18\n",
      "Chemo-step 19\n",
      "Chemo-step 20\n",
      "Repro-step 4\n",
      "Chemo-step 1\n",
      "Chemo-step 2\n",
      "Chemo-step 3\n",
      "Chemo-step 4\n",
      "Chemo-step 5\n",
      "Chemo-step 6\n",
      "Chemo-step 7\n",
      "Chemo-step 8\n",
      "Chemo-step 9\n",
      "Chemo-step 10\n",
      "Chemo-step 11\n",
      "Chemo-step 12\n",
      "Chemo-step 13\n",
      "Chemo-step 14\n",
      "Chemo-step 15\n",
      "Chemo-step 16\n",
      "Chemo-step 17\n",
      "Chemo-step 18\n",
      "Chemo-step 19\n",
      "Chemo-step 20\n",
      "ED-step 2\n",
      "  1.329714 seconds (1.71 M allocations: 84.707 MiB, 3.64% gc time)\n"
     ]
    },
    {
     "data": {
      "text/plain": [
       "Dict{String,Any} with 3 entries:\n",
       "  \"Path_Dict\"     => Dict(7=>[0.759961 0.682776 … 0.000460271 0.00117275; 1.866…\n",
       "  \"Minimum Point\" => [0.00117275, 1.00434]\n",
       "  \"Minimum\"       => 1.00552"
      ]
     },
     "execution_count": 80,
     "metadata": {},
     "output_type": "execute_result"
    }
   ],
   "source": [
    "@time BFO(J,Range)"
   ]
  },
  {
   "cell_type": "code",
   "execution_count": null,
   "metadata": {
    "collapsed": true
   },
   "outputs": [],
   "source": []
  },
  {
   "cell_type": "code",
   "execution_count": 58,
   "metadata": {
    "scrolled": true
   },
   "outputs": [
    {
     "name": "stdout",
     "output_type": "stream",
     "text": [
      "[2.59303, 2.39607]\n",
      "[2.72201, 2.67022, 2.61843]\n",
      "[3.60451]\n",
      "[2.75717, 2.66596, 2.57475, 2.48354, 2.39234, 2.32731]\n",
      "[2.52964, 2.43219, 2.33474, 2.23729, 2.13984, 2.04239]\n",
      "[3.52072]\n",
      "[1.3147]\n",
      "[2.05796]\n",
      "[3.03446, 2.88936, 2.74425, 2.59914, 2.45404, 2.30893]\n",
      "[1.79963, 1.66943, 1.53923, 1.40903, 1.27883, 1.2166]\n"
     ]
    }
   ],
   "source": [
    "for i=1:S\n",
    "    Path_i= Path_Dict[i]\n",
    "    println([J(Path_i[:,k]) for k=1:size(Path_i,2)])\n",
    "end"
   ]
  },
  {
   "cell_type": "code",
   "execution_count": 59,
   "metadata": {},
   "outputs": [
    {
     "data": {
      "application/vnd.plotly.v1+json": {
       "data": [
        {
         "colorbar": {
          "title": ""
         },
         "hoverinfo": "text",
         "legendgroup": "y1",
         "marker": {
          "color": "rgba(0, 154, 250, 1.000)",
          "line": {
           "color": "rgba(0, 0, 0, 1.000)",
           "width": 1
          },
          "size": 8,
          "symbol": "circle"
         },
         "mode": "markers",
         "name": "y1",
         "showlegend": true,
         "text": [
          null,
          null,
          null,
          null,
          null,
          null,
          null,
          null,
          null,
          null
         ],
         "type": "scatter",
         "x": [
          0.0073418438674883735,
          1.60060392929437,
          1.4379952913100733,
          1.3142196609450723,
          0.40998198630591753,
          0.6272038237452771,
          0.04151609393193123,
          0.109005936209011,
          0.9906641529943454,
          0.03398205869878601
         ],
         "xaxis": "x1",
         "y": [
          2.3887327692660207,
          1.0178297405993577,
          2.166509999023609,
          1.0130901303793174,
          1.632406257911614,
          2.8935147985610303,
          1.2731831687558461,
          1.9489562409023349,
          1.3182638233554578,
          1.1826142435609273
         ],
         "yaxis": "y1",
         "zmax": 0.1,
         "zmin": -0.1
        },
        {
         "colorbar": {
          "title": ""
         },
         "hoverinfo": "text",
         "legendgroup": "y2",
         "line": {
          "color": "rgba(227, 111, 71, 1.000)",
          "dash": "solid",
          "shape": "linear",
          "width": 1
         },
         "mode": "lines",
         "name": "y2",
         "showlegend": true,
         "text": [
          null,
          null
         ],
         "type": "scatter",
         "x": [
          0.12321215676490693,
          0.0073418438674883735
         ],
         "xaxis": "x1",
         "y": [
          2.46981341177121,
          2.3887327692660207
         ],
         "yaxis": "y1",
         "zmax": 0.1,
         "zmin": -0.1
        },
        {
         "colorbar": {
          "title": ""
         },
         "hoverinfo": "text",
         "legendgroup": "y3",
         "line": {
          "color": "rgba(62, 164, 78, 1.000)",
          "dash": "solid",
          "shape": "linear",
          "width": 1
         },
         "mode": "lines",
         "name": "y3",
         "showlegend": true,
         "text": [
          null,
          null,
          null
         ],
         "type": "scatter",
         "x": [
          1.459216177746696,
          1.529910053520533,
          1.60060392929437
         ],
         "xaxis": "x1",
         "y": [
          1.2627981134810287,
          1.1403139270401932,
          1.0178297405993577
         ],
         "yaxis": "y1",
         "zmax": 0.1,
         "zmin": -0.1
        },
        {
         "colorbar": {
          "title": ""
         },
         "hoverinfo": "text",
         "legendgroup": "y4",
         "line": {
          "color": "rgba(195, 113, 210, 1.000)",
          "dash": "solid",
          "shape": "linear",
          "width": 1
         },
         "mode": "lines",
         "name": "y4",
         "showlegend": true,
         "text": [
          null,
          null,
          null,
          null,
          null,
          null
         ],
         "type": "scatter",
         "x": [
          1.09725840888163,
          1.1406506592943184,
          1.1840429097070069,
          1.2274351601196953,
          1.2708274105323838,
          1.3142196609450723
         ],
         "xaxis": "x1",
         "y": [
          1.6599089893103471,
          1.5253091653724142,
          1.3907093414344813,
          1.2561095174965484,
          1.1215096935586155,
          1.0130901303793174
         ],
         "yaxis": "y1",
         "zmax": 0.1,
         "zmin": -0.1
        },
        {
         "colorbar": {
          "title": ""
         },
         "hoverinfo": "text",
         "legendgroup": "y5",
         "line": {
          "color": "rgba(172, 142, 24, 1.000)",
          "dash": "solid",
          "shape": "linear",
          "width": 1
         },
         "mode": "lines",
         "name": "y5",
         "showlegend": true,
         "text": [
          null,
          null,
          null,
          null,
          null,
          null
         ],
         "type": "scatter",
         "x": [
          1.0902386817756695,
          0.9541873426817191,
          0.8181360035877687,
          0.6820846644938183,
          0.5460333253998679,
          0.40998198630591753
         ],
         "xaxis": "x1",
         "y": [
          1.4394015215226532,
          1.4780024688004454,
          1.5166034160782376,
          1.5552043633560297,
          1.593805310633822,
          1.632406257911614
         ],
         "yaxis": "y1",
         "zmax": 0.1,
         "zmin": -0.1
        },
        {
         "colorbar": {
          "title": ""
         },
         "hoverinfo": "text",
         "legendgroup": "y6",
         "line": {
          "color": "rgba(0, 170, 174, 1.000)",
          "dash": "solid",
          "shape": "linear",
          "width": 1
         },
         "mode": "lines",
         "name": "y6",
         "showlegend": true,
         "text": [
          null,
          null,
          null,
          null,
          null,
          null
         ],
         "type": "scatter",
         "x": [
          1.6975242673643702,
          1.5561522444903653,
          1.4147802216163603,
          1.2734081987423553,
          1.1320361758683504,
          0.9906641529943454
         ],
         "xaxis": "x1",
         "y": [
          1.3369394414923774,
          1.3332043178649935,
          1.3294691942376096,
          1.3257340706102256,
          1.3219989469828417,
          1.3182638233554578
         ],
         "yaxis": "y1",
         "zmax": 0.1,
         "zmin": -0.1
        },
        {
         "colorbar": {
          "title": ""
         },
         "hoverinfo": "text",
         "legendgroup": "y7",
         "line": {
          "color": "rgba(237, 94, 147, 1.000)",
          "dash": "solid",
          "shape": "linear",
          "width": 1
         },
         "mode": "lines",
         "name": "y7",
         "showlegend": true,
         "text": [
          null,
          null,
          null,
          null,
          null,
          null
         ],
         "type": "scatter",
         "x": [
          0.671056382588544,
          0.530048694331078,
          0.38904100607361203,
          0.24803331781614602,
          0.10702562955868,
          0.03398205869878601
         ],
         "xaxis": "x1",
         "y": [
          1.1285698515564686,
          1.1393787299573603,
          1.150187608358252,
          1.1609964867591438,
          1.1718053651600355,
          1.1826142435609273
         ],
         "yaxis": "y1",
         "zmax": 0.1,
         "zmin": -0.1
        }
       ],
       "layout": {
        "annotations": [],
        "height": 400,
        "legend": {
         "bgcolor": "rgba(255, 255, 255, 1.000)",
         "bordercolor": "rgba(0, 0, 0, 1.000)",
         "font": {
          "color": "rgba(0, 0, 0, 1.000)",
          "family": "sans-serif",
          "size": 11
         },
         "tracegroupgap": 0,
         "x": 1,
         "y": 1
        },
        "margin": {
         "b": 20,
         "l": 0,
         "r": 0,
         "t": 20
        },
        "paper_bgcolor": "rgba(255, 255, 255, 1.000)",
        "plot_bgcolor": "rgba(255, 255, 255, 1.000)",
        "showlegend": true,
        "width": 600,
        "xaxis": {
         "anchor": "y1",
         "domain": [
          0.05100612423447069,
          0.9934383202099737
         ],
         "gridcolor": "rgba(0, 0, 0, 0.100)",
         "gridwidth": 0.5,
         "linecolor": "rgba(0, 0, 0, 1.000)",
         "mirror": false,
         "range": [
          -0.06,
          2.06
         ],
         "showgrid": true,
         "showline": true,
         "showticklabels": true,
         "tickangle": 0,
         "tickcolor": "rgb(0, 0, 0)",
         "tickfont": {
          "color": "rgba(0, 0, 0, 1.000)",
          "family": "sans-serif",
          "size": 11
         },
         "tickmode": "array",
         "ticks": "inside",
         "ticktext": [
          "0.0",
          "0.5",
          "1.0",
          "1.5",
          "2.0"
         ],
         "tickvals": [
          0,
          0.5,
          1,
          1.5,
          2
         ],
         "title": "",
         "titlefont": {
          "color": "rgba(0, 0, 0, 1.000)",
          "family": "sans-serif",
          "size": 15
         },
         "type": "-",
         "visible": true,
         "zeroline": false,
         "zerolinecolor": "rgba(0, 0, 0, 1.000)"
        },
        "yaxis": {
         "anchor": "x1",
         "domain": [
          0.03762029746281716,
          0.9901574803149606
         ],
         "gridcolor": "rgba(0, 0, 0, 0.100)",
         "gridwidth": 0.5,
         "linecolor": "rgba(0, 0, 0, 1.000)",
         "mirror": false,
         "range": [
          0.94,
          3.06
         ],
         "showgrid": true,
         "showline": true,
         "showticklabels": true,
         "tickangle": 0,
         "tickcolor": "rgb(0, 0, 0)",
         "tickfont": {
          "color": "rgba(0, 0, 0, 1.000)",
          "family": "sans-serif",
          "size": 11
         },
         "tickmode": "array",
         "ticks": "inside",
         "ticktext": [
          "1.0",
          "1.5",
          "2.0",
          "2.5",
          "3.0"
         ],
         "tickvals": [
          1,
          1.5,
          2,
          2.5,
          3
         ],
         "title": "",
         "titlefont": {
          "color": "rgba(0, 0, 0, 1.000)",
          "family": "sans-serif",
          "size": 15
         },
         "type": "-",
         "visible": true,
         "zeroline": false,
         "zerolinecolor": "rgba(0, 0, 0, 1.000)"
        }
       }
      },
      "text/html": [
       "    <div id=\"52e0f710-231e-493f-901a-30dcad5f7fdf\" style=\"width:600px;height:400px;\"></div>\n",
       "    <script>\n",
       "    PLOT = document.getElementById('52e0f710-231e-493f-901a-30dcad5f7fdf');\n",
       "    Plotly.plot(PLOT, [{\"xaxis\":\"x1\",\"colorbar\":{\"title\":\"\"},\"yaxis\":\"y1\",\"text\":[null,null,null,null,null,null,null,null,null,null],\"x\":[0.0073418438674883735,1.60060392929437,1.4379952913100733,1.3142196609450723,0.40998198630591753,0.6272038237452771,0.04151609393193123,0.109005936209011,0.9906641529943454,0.03398205869878601],\"showlegend\":true,\"mode\":\"markers\",\"name\":\"y1\",\"zmin\":-0.1,\"legendgroup\":\"y1\",\"marker\":{\"symbol\":\"circle\",\"color\":\"rgba(0, 154, 250, 1.000)\",\"line\":{\"color\":\"rgba(0, 0, 0, 1.000)\",\"width\":1},\"size\":8},\"zmax\":0.1,\"y\":[2.3887327692660207,1.0178297405993577,2.166509999023609,1.0130901303793174,1.632406257911614,2.8935147985610303,1.2731831687558461,1.9489562409023349,1.3182638233554578,1.1826142435609273],\"type\":\"scatter\",\"hoverinfo\":\"text\"},{\"xaxis\":\"x1\",\"colorbar\":{\"title\":\"\"},\"yaxis\":\"y1\",\"text\":[null,null],\"x\":[0.12321215676490693,0.0073418438674883735],\"showlegend\":true,\"mode\":\"lines\",\"name\":\"y2\",\"zmin\":-0.1,\"legendgroup\":\"y2\",\"zmax\":0.1,\"line\":{\"color\":\"rgba(227, 111, 71, 1.000)\",\"shape\":\"linear\",\"dash\":\"solid\",\"width\":1},\"y\":[2.46981341177121,2.3887327692660207],\"type\":\"scatter\",\"hoverinfo\":\"text\"},{\"xaxis\":\"x1\",\"colorbar\":{\"title\":\"\"},\"yaxis\":\"y1\",\"text\":[null,null,null],\"x\":[1.459216177746696,1.529910053520533,1.60060392929437],\"showlegend\":true,\"mode\":\"lines\",\"name\":\"y3\",\"zmin\":-0.1,\"legendgroup\":\"y3\",\"zmax\":0.1,\"line\":{\"color\":\"rgba(62, 164, 78, 1.000)\",\"shape\":\"linear\",\"dash\":\"solid\",\"width\":1},\"y\":[1.2627981134810287,1.1403139270401932,1.0178297405993577],\"type\":\"scatter\",\"hoverinfo\":\"text\"},{\"xaxis\":\"x1\",\"colorbar\":{\"title\":\"\"},\"yaxis\":\"y1\",\"text\":[null,null,null,null,null,null],\"x\":[1.09725840888163,1.1406506592943184,1.1840429097070069,1.2274351601196953,1.2708274105323838,1.3142196609450723],\"showlegend\":true,\"mode\":\"lines\",\"name\":\"y4\",\"zmin\":-0.1,\"legendgroup\":\"y4\",\"zmax\":0.1,\"line\":{\"color\":\"rgba(195, 113, 210, 1.000)\",\"shape\":\"linear\",\"dash\":\"solid\",\"width\":1},\"y\":[1.6599089893103471,1.5253091653724142,1.3907093414344813,1.2561095174965484,1.1215096935586155,1.0130901303793174],\"type\":\"scatter\",\"hoverinfo\":\"text\"},{\"xaxis\":\"x1\",\"colorbar\":{\"title\":\"\"},\"yaxis\":\"y1\",\"text\":[null,null,null,null,null,null],\"x\":[1.0902386817756695,0.9541873426817191,0.8181360035877687,0.6820846644938183,0.5460333253998679,0.40998198630591753],\"showlegend\":true,\"mode\":\"lines\",\"name\":\"y5\",\"zmin\":-0.1,\"legendgroup\":\"y5\",\"zmax\":0.1,\"line\":{\"color\":\"rgba(172, 142, 24, 1.000)\",\"shape\":\"linear\",\"dash\":\"solid\",\"width\":1},\"y\":[1.4394015215226532,1.4780024688004454,1.5166034160782376,1.5552043633560297,1.593805310633822,1.632406257911614],\"type\":\"scatter\",\"hoverinfo\":\"text\"},{\"xaxis\":\"x1\",\"colorbar\":{\"title\":\"\"},\"yaxis\":\"y1\",\"text\":[null,null,null,null,null,null],\"x\":[1.6975242673643702,1.5561522444903653,1.4147802216163603,1.2734081987423553,1.1320361758683504,0.9906641529943454],\"showlegend\":true,\"mode\":\"lines\",\"name\":\"y6\",\"zmin\":-0.1,\"legendgroup\":\"y6\",\"zmax\":0.1,\"line\":{\"color\":\"rgba(0, 170, 174, 1.000)\",\"shape\":\"linear\",\"dash\":\"solid\",\"width\":1},\"y\":[1.3369394414923774,1.3332043178649935,1.3294691942376096,1.3257340706102256,1.3219989469828417,1.3182638233554578],\"type\":\"scatter\",\"hoverinfo\":\"text\"},{\"xaxis\":\"x1\",\"colorbar\":{\"title\":\"\"},\"yaxis\":\"y1\",\"text\":[null,null,null,null,null,null],\"x\":[0.671056382588544,0.530048694331078,0.38904100607361203,0.24803331781614602,0.10702562955868,0.03398205869878601],\"showlegend\":true,\"mode\":\"lines\",\"name\":\"y7\",\"zmin\":-0.1,\"legendgroup\":\"y7\",\"zmax\":0.1,\"line\":{\"color\":\"rgba(237, 94, 147, 1.000)\",\"shape\":\"linear\",\"dash\":\"solid\",\"width\":1},\"y\":[1.1285698515564686,1.1393787299573603,1.150187608358252,1.1609964867591438,1.1718053651600355,1.1826142435609273],\"type\":\"scatter\",\"hoverinfo\":\"text\"}], {\"showlegend\":true,\"xaxis\":{\"showticklabels\":true,\"gridwidth\":0.5,\"tickvals\":[0.0,0.5,1.0,1.5,2.0],\"visible\":true,\"ticks\":\"inside\",\"range\":[-0.06,2.06],\"domain\":[0.05100612423447069,0.9934383202099737],\"tickmode\":\"array\",\"linecolor\":\"rgba(0, 0, 0, 1.000)\",\"showgrid\":true,\"title\":\"\",\"mirror\":false,\"tickangle\":0,\"showline\":true,\"gridcolor\":\"rgba(0, 0, 0, 0.100)\",\"titlefont\":{\"color\":\"rgba(0, 0, 0, 1.000)\",\"family\":\"sans-serif\",\"size\":15},\"tickcolor\":\"rgb(0, 0, 0)\",\"ticktext\":[\"0.0\",\"0.5\",\"1.0\",\"1.5\",\"2.0\"],\"zeroline\":false,\"type\":\"-\",\"tickfont\":{\"color\":\"rgba(0, 0, 0, 1.000)\",\"family\":\"sans-serif\",\"size\":11},\"zerolinecolor\":\"rgba(0, 0, 0, 1.000)\",\"anchor\":\"y1\"},\"paper_bgcolor\":\"rgba(255, 255, 255, 1.000)\",\"annotations\":[],\"height\":400,\"margin\":{\"l\":0,\"b\":20,\"r\":0,\"t\":20},\"plot_bgcolor\":\"rgba(255, 255, 255, 1.000)\",\"yaxis\":{\"showticklabels\":true,\"gridwidth\":0.5,\"tickvals\":[1.0,1.5,2.0,2.5,3.0],\"visible\":true,\"ticks\":\"inside\",\"range\":[0.94,3.06],\"domain\":[0.03762029746281716,0.9901574803149606],\"tickmode\":\"array\",\"linecolor\":\"rgba(0, 0, 0, 1.000)\",\"showgrid\":true,\"title\":\"\",\"mirror\":false,\"tickangle\":0,\"showline\":true,\"gridcolor\":\"rgba(0, 0, 0, 0.100)\",\"titlefont\":{\"color\":\"rgba(0, 0, 0, 1.000)\",\"family\":\"sans-serif\",\"size\":15},\"tickcolor\":\"rgb(0, 0, 0)\",\"ticktext\":[\"1.0\",\"1.5\",\"2.0\",\"2.5\",\"3.0\"],\"zeroline\":false,\"type\":\"-\",\"tickfont\":{\"color\":\"rgba(0, 0, 0, 1.000)\",\"family\":\"sans-serif\",\"size\":11},\"zerolinecolor\":\"rgba(0, 0, 0, 1.000)\",\"anchor\":\"x1\"},\"legend\":{\"tracegroupgap\":0,\"bordercolor\":\"rgba(0, 0, 0, 1.000)\",\"bgcolor\":\"rgba(255, 255, 255, 1.000)\",\"font\":{\"color\":\"rgba(0, 0, 0, 1.000)\",\"family\":\"sans-serif\",\"size\":11},\"y\":1.0,\"x\":1.0},\"width\":600});\n",
       "    </script>\n"
      ]
     },
     "execution_count": 59,
     "metadata": {},
     "output_type": "execute_result"
    }
   ],
   "source": [
    "using Plots\n",
    "plotly()\n",
    "scatter(B_loc[1,:], B_loc[2,:], xlim = Range[1,:], ylim = Range[2,:])\n",
    "for i = 1:S\n",
    "    Path_i = Path_Dict[i]\n",
    "    if size(Path_i,2)>1\n",
    "        plot!(Path_i[1,:], Path_i[2,:])\n",
    "        ## scatter!(Path_i[1,:], Path_i[2,:])\n",
    "    end\n",
    "end\n",
    "plot!()"
   ]
  },
  {
   "cell_type": "code",
   "execution_count": null,
   "metadata": {
    "collapsed": true
   },
   "outputs": [],
   "source": []
  },
  {
   "cell_type": "code",
   "execution_count": null,
   "metadata": {
    "collapsed": true
   },
   "outputs": [],
   "source": []
  }
 ],
 "metadata": {
  "kernelspec": {
   "display_name": "Julia 1.0.2",
   "language": "julia",
   "name": "julia-1.0"
  },
  "language_info": {
   "file_extension": ".jl",
   "mimetype": "application/julia",
   "name": "julia",
   "version": "1.0.2"
  }
 },
 "nbformat": 4,
 "nbformat_minor": 2
}
